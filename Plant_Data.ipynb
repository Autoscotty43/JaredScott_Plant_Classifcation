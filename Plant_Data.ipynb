{
 "cells": [
  {
   "cell_type": "code",
   "execution_count": 7,
   "id": "ce9b1d9b-8d42-4838-a141-8dab2ee760f4",
   "metadata": {},
   "outputs": [],
   "source": [
    "# --- Import Libraries ---\n",
    "import os\n",
    "import torch\n",
    "import torch.nn as nn\n",
    "import torch.optim as optim\n",
    "from torchvision import datasets, transforms, models\n",
    "from torch.utils.data import DataLoader"
   ]
  },
  {
   "cell_type": "code",
   "execution_count": 9,
   "id": "b20643fc-d27a-4070-a885-49d12d6fa340",
   "metadata": {},
   "outputs": [],
   "source": [
    "# --- 1. Define Dataset Path ---\n",
    "dataset_path = \"Plant_Dataset\"  # <--- **ADJUST THIS IF YOUR FOLDER NAME IS DIFFERENT**"
   ]
  },
  {
   "cell_type": "code",
   "execution_count": 11,
   "id": "b4d54e55-47bf-4b04-8b3a-e48e68c2b69d",
   "metadata": {},
   "outputs": [],
   "source": [
    "# --- 2. Define Image Transformations ---\n",
    "transform = transforms.Compose([\n",
    "    transforms.Resize((224, 224)),  # Resize to 224x224 for CNNs like ResNet\n",
    "    transforms.ToTensor(),           # Convert to Tensor\n",
    "    transforms.Normalize(mean=[0.485, 0.456, 0.406], std=[0.229, 0.224, 0.225]) # Normalize using ImageNet stats\n",
    "])"
   ]
  },
  {
   "cell_type": "code",
   "execution_count": 13,
   "id": "37324452-366a-4276-bd4f-24a44b47be9a",
   "metadata": {},
   "outputs": [],
   "source": [
    "# --- 3. Load Dataset ---\n",
    "dataset = datasets.ImageFolder(root=dataset_path, transform=transform)"
   ]
  },
  {
   "cell_type": "code",
   "execution_count": 15,
   "id": "7bf1ca37-ab46-4391-8a7a-c83f45d393b4",
   "metadata": {},
   "outputs": [],
   "source": [
    "# --- 4. Split Dataset ---\n",
    "train_size = int(0.8 * len(dataset))\n",
    "test_size = len(dataset) - train_size\n",
    "train_dataset, test_dataset = torch.utils.data.random_split(dataset, [train_size, test_size])"
   ]
  },
  {
   "cell_type": "code",
   "execution_count": 17,
   "id": "627b8edc-8a0f-4012-854d-16f5db436986",
   "metadata": {},
   "outputs": [],
   "source": [
    "# --- 5. Create DataLoaders ---\n",
    "batch_size = 32  # <--- **YOU CAN ADJUST THE BATCH SIZE HERE**\n",
    "train_loader = DataLoader(train_dataset, batch_size=batch_size, shuffle=True)\n",
    "test_loader = DataLoader(test_dataset, batch_size=batch_size, shuffle=False)"
   ]
  },
  {
   "cell_type": "code",
   "execution_count": 19,
   "id": "6d902b18-2f67-48e1-a46a-e16b2a7b103e",
   "metadata": {},
   "outputs": [
    {
     "name": "stdout",
     "output_type": "stream",
     "text": [
      "Total images: 19178\n",
      "Training images: 15342, Testing images: 3836\n",
      "Class names: ['Apple___Apple_scab', 'Apple___Black_rot', 'Apple___Cedar_apple_rust', 'Apple___healthy', 'Background_without_leaves', 'Blueberry___healthy', 'Cherry___Powdery_mildew', 'Cherry___healthy', 'Corn___Cercospora_leaf_spot Gray_leaf_spot', 'Corn___Common_rust', 'Corn___Northern_Leaf_Blight', 'Corn___healthy', 'Grape___Black_rot', 'Grape___Esca_(Black_Measles)', 'Grape___Leaf_blight_(Isariopsis_Leaf_Spot)', 'Grape___healthy', 'Orange___Haunglongbing_(Citrus_greening)']\n",
      "Number of classes: 17\n"
     ]
    }
   ],
   "source": [
    "# --- 6. Print Dataset Info ---\n",
    "print(f\"Total images: {len(dataset)}\")\n",
    "print(f\"Training images: {len(train_dataset)}, Testing images: {len(test_dataset)}\")\n",
    "print(f\"Class names: {dataset.classes}\")\n",
    "num_classes = len(dataset.classes)\n",
    "print(f\"Number of classes: {num_classes}\")"
   ]
  },
  {
   "cell_type": "code",
   "execution_count": 21,
   "id": "4e472986-a19d-45d5-86fb-328c2d81939c",
   "metadata": {},
   "outputs": [
    {
     "name": "stderr",
     "output_type": "stream",
     "text": [
      "C:\\Users\\jared\\anaconda3\\envs\\DeepLearning_PlantClass_39\\lib\\site-packages\\torchvision\\models\\_utils.py:208: UserWarning: The parameter 'pretrained' is deprecated since 0.13 and may be removed in the future, please use 'weights' instead.\n",
      "  warnings.warn(\n",
      "C:\\Users\\jared\\anaconda3\\envs\\DeepLearning_PlantClass_39\\lib\\site-packages\\torchvision\\models\\_utils.py:223: UserWarning: Arguments other than a weight enum or `None` for 'weights' are deprecated since 0.13 and may be removed in the future. The current behavior is equivalent to passing `weights=ResNet18_Weights.IMAGENET1K_V1`. You can also use `weights=ResNet18_Weights.DEFAULT` to get the most up-to-date weights.\n",
      "  warnings.warn(msg)\n"
     ]
    },
    {
     "name": "stdout",
     "output_type": "stream",
     "text": [
      "Using device: cpu\n"
     ]
    }
   ],
   "source": [
    "# --- 7. Load Pretrained Model (ResNet18) ---\n",
    "model = models.resnet18(pretrained=True)\n",
    "\n",
    "# --- 8. Modify the Final Fully Connected Layer ---\n",
    "num_ftrs = model.fc.in_features\n",
    "model.fc = nn.Linear(num_ftrs, num_classes) # Use the actual number of classes\n",
    "\n",
    "# --- 9. Move the Model to GPU if Available ---\n",
    "device = torch.device(\"cuda:0\" if torch.cuda.is_available() else \"cpu\")\n",
    "model = model.to(device)\n",
    "print(f\"Using device: {device}\")"
   ]
  },
  {
   "cell_type": "code",
   "execution_count": 23,
   "id": "a0fab9a4-3c21-42e0-b5d2-a72243a0bbef",
   "metadata": {},
   "outputs": [],
   "source": [
    "# --- 10. Define Loss Function and Optimizer ---\n",
    "criterion = nn.CrossEntropyLoss()\n",
    "learning_rate = 0.001 # <--- **YOU CAN ADJUST THE LEARNING RATE HERE**\n",
    "optimizer = optim.Adam(model.parameters(), lr=learning_rate)"
   ]
  },
  {
   "cell_type": "code",
   "execution_count": 25,
   "id": "e6afdcd7-23e0-4a33-add4-221bd7608ca8",
   "metadata": {},
   "outputs": [],
   "source": [
    "# --- 11. Train the Model ---\n",
    "def train_model(model, train_loader, criterion, optimizer, num_epochs=5): # <--- **ADJUST THE NUMBER OF EPOCHS HERE**\n",
    "    for epoch in range(num_epochs):\n",
    "        running_loss = 0.0\n",
    "        correct_predictions = 0\n",
    "        total_samples = 0\n",
    "        model.train() # Set the model to training mode\n",
    "\n",
    "        for inputs, labels in train_loader:\n",
    "            inputs = inputs.to(device)\n",
    "            labels = labels.to(device)\n",
    "\n",
    "            optimizer.zero_grad() # Zero the gradients\n",
    "\n",
    "            outputs = model(inputs)\n",
    "            loss = criterion(outputs, labels)\n",
    "            loss.backward() # Perform backpropagation\n",
    "            optimizer.step() # Update the weights\n",
    "\n",
    "            running_loss += loss.item() * inputs.size(0)\n",
    "            _, predicted = torch.max(outputs, 1)\n",
    "            correct_predictions += (predicted == labels).sum().item()\n",
    "            total_samples += labels.size(0)\n",
    "\n",
    "        epoch_loss = running_loss / total_samples\n",
    "        epoch_accuracy = correct_predictions / total_samples\n",
    "        print(f'Epoch [{epoch+1}/{num_epochs}], Loss: {epoch_accuracy:.4f}')"
   ]
  },
  {
   "cell_type": "code",
   "execution_count": null,
   "id": "ff30311d-b5bf-48c8-a3fa-edc29e0256b8",
   "metadata": {},
   "outputs": [],
   "source": [
    "# Train the model\n",
    "num_epochs = 5 # You can change this here as well\n",
    "train_model(model, train_loader, criterion, optimizer, num_epochs)"
   ]
  },
  {
   "cell_type": "code",
   "execution_count": 24,
   "id": "f4b0addb-769b-4b45-8a3e-d960d72a41dc",
   "metadata": {},
   "outputs": [],
   "source": [
    "# --- 12. Evaluate the Model ---\n",
    "def evaluate_model(model, test_loader, criterion):\n",
    "    model.eval() # Set the model to evaluation mode\n",
    "    running_loss = 0.0\n",
    "    correct_predictions = 0\n",
    "    total_samples = 0\n",
    "\n",
    "    with torch.no_grad(): # Disable gradient calculation during evaluation\n",
    "        for inputs, labels in test_loader:\n",
    "            inputs = inputs.to(device)\n",
    "            labels = labels.to(device)\n",
    "\n",
    "            outputs = model(inputs)\n",
    "            loss = criterion(outputs, labels)\n",
    "\n",
    "            running_loss += loss.item() * inputs.size(0)\n",
    "            _, predicted = torch.max(outputs, 1)\n",
    "            correct_predictions += (predicted == labels).sum().item()\n",
    "            total_samples += labels.size(0)\n",
    "\n",
    "    test_loss = running_loss / total_samples\n",
    "    test_accuracy = correct_predictions / total_samples\n",
    "    print(f'Test Loss: {test_loss:.4f}, Test Accuracy: {test_accuracy:.4f}')"
   ]
  },
  {
   "cell_type": "code",
   "execution_count": 26,
   "id": "7a37ff05-5dac-4cc4-a7d9-42a6b7a39e74",
   "metadata": {},
   "outputs": [
    {
     "name": "stdout",
     "output_type": "stream",
     "text": [
      "Test Loss: 0.1162, Test Accuracy: 0.9638\n"
     ]
    }
   ],
   "source": [
    "# Evaluate the model\n",
    "evaluate_model(model, test_loader, criterion)"
   ]
  },
  {
   "cell_type": "code",
   "execution_count": 28,
   "id": "1117c788-ec76-4e75-b7c7-84c3938c2ec4",
   "metadata": {},
   "outputs": [
    {
     "name": "stdout",
     "output_type": "stream",
     "text": [
      "Trained model saved as plant_classification_model.pth\n"
     ]
    }
   ],
   "source": [
    "# --- 13. Save the Trained Model ---\n",
    "torch.save(model.state_dict(), 'plant_classification_model.pth')\n",
    "print(\"Trained model saved as plant_classification_model.pth\")"
   ]
  },
  {
   "cell_type": "code",
   "execution_count": 5,
   "id": "d41e1a0e-4aa2-4059-bea2-9c77aafbb998",
   "metadata": {},
   "outputs": [
    {
     "ename": "NameError",
     "evalue": "name 'models' is not defined",
     "output_type": "error",
     "traceback": [
      "\u001b[1;31m---------------------------------------------------------------------------\u001b[0m",
      "\u001b[1;31mNameError\u001b[0m                                 Traceback (most recent call last)",
      "Cell \u001b[1;32mIn[5], line 6\u001b[0m\n\u001b[0;32m      3\u001b[0m \u001b[38;5;28;01mimport\u001b[39;00m \u001b[38;5;21;01mtorch\u001b[39;00m\n\u001b[0;32m      5\u001b[0m \u001b[38;5;66;03m# Load your saved model\u001b[39;00m\n\u001b[1;32m----> 6\u001b[0m model \u001b[38;5;241m=\u001b[39m \u001b[43mmodels\u001b[49m\u001b[38;5;241m.\u001b[39mresnet18(pretrained\u001b[38;5;241m=\u001b[39m\u001b[38;5;28;01mFalse\u001b[39;00m) \u001b[38;5;66;03m# Or with weights if you prefer\u001b[39;00m\n\u001b[0;32m      7\u001b[0m num_ftrs \u001b[38;5;241m=\u001b[39m model\u001b[38;5;241m.\u001b[39mfc\u001b[38;5;241m.\u001b[39min_features\n\u001b[0;32m      8\u001b[0m model\u001b[38;5;241m.\u001b[39mfc \u001b[38;5;241m=\u001b[39m nn\u001b[38;5;241m.\u001b[39mLinear(num_ftrs, \u001b[38;5;28mlen\u001b[39m(dataset\u001b[38;5;241m.\u001b[39mclasses))\n",
      "\u001b[1;31mNameError\u001b[0m: name 'models' is not defined"
     ]
    }
   ],
   "source": [
    "from PIL import Image\n",
    "import torchvision.transforms as transforms\n",
    "import torch\n",
    "\n",
    "# Load your saved model\n",
    "model = models.resnet18(pretrained=False) # Or with weights if you prefer\n",
    "num_ftrs = model.fc.in_features\n",
    "model.fc = nn.Linear(num_ftrs, len(dataset.classes))\n",
    "model.load_state_dict(torch.load('plant_classification_model.pth'))\n",
    "model.eval()\n",
    "\n",
    "# Load and preprocess a new image\n",
    "image_path = 'C:/Users/jared/anaconda3/envs/DeepLearning_PlantClass_39/image_berry.jpg'\n",
    "image = Image.open(image_path).convert('RGB')\n",
    "transform_single = transforms.Compose([\n",
    "    transforms.Resize((224, 224)),\n",
    "    transforms.ToTensor(),\n",
    "    transforms.Normalize(mean=[0.485, 0.456, 0.406], std=[0.229, 0.224, 0.225])\n",
    "])\n",
    "input_tensor = transform_single(image).unsqueeze(0) # Add a batch dimension\n",
    "\n",
    "# Make a prediction\n",
    "with torch.no_grad():\n",
    "    output = model(input_tensor)\n",
    "    probabilities = torch.nn.functional.softmax(output[0], dim=0)\n",
    "    predicted_class_index = torch.argmax(probabilities).item()\n",
    "    predicted_class_name = dataset.classes[predicted_class_index]\n",
    "    confidence = probabilities[predicted_class_index].item()\n",
    "\n",
    "print(f\"Predicted class: {predicted_class_name} (Confidence: {confidence:.4f})\")"
   ]
  },
  {
   "cell_type": "code",
   "execution_count": null,
   "id": "4ec05576-b4a9-4c60-8945-5055a835baf8",
   "metadata": {},
   "outputs": [],
   "source": []
  }
 ],
 "metadata": {
  "kernelspec": {
   "display_name": "DeepLearning_PlantClass",
   "language": "python",
   "name": "deeplearning_plantclass"
  },
  "language_info": {
   "codemirror_mode": {
    "name": "ipython",
    "version": 3
   },
   "file_extension": ".py",
   "mimetype": "text/x-python",
   "name": "python",
   "nbconvert_exporter": "python",
   "pygments_lexer": "ipython3",
   "version": "3.9.15"
  }
 },
 "nbformat": 4,
 "nbformat_minor": 5
}
